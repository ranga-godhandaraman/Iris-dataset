{
  "nbformat": 4,
  "nbformat_minor": 0,
  "metadata": {
    "colab": {
      "provenance": [],
      "authorship_tag": "ABX9TyMaPn4YGzG7NbJT0CDn7ewz",
      "include_colab_link": true
    },
    "kernelspec": {
      "name": "python3",
      "display_name": "Python 3"
    },
    "language_info": {
      "name": "python"
    }
  },
  "cells": [
    {
      "cell_type": "markdown",
      "metadata": {
        "id": "view-in-github",
        "colab_type": "text"
      },
      "source": [
        "<a href=\"https://colab.research.google.com/github/ranga-godhandaraman/Iris-dataset/blob/main/Day1_MLWorkshop-Hands-on.ipynb\" target=\"_parent\"><img src=\"https://colab.research.google.com/assets/colab-badge.svg\" alt=\"Open In Colab\"/></a>"
      ]
    },
    {
      "cell_type": "markdown",
      "source": [
        "**Basic Data Exploration** - (Load and understand your data)"
      ],
      "metadata": {
        "id": "CjiRdwlg_QDr"
      }
    },
    {
      "cell_type": "markdown",
      "source": [
        "#Load IRIS dataset directly from scikit learn"
      ],
      "metadata": {
        "id": "0HwojLTEIr1a"
      }
    },
    {
      "cell_type": "code",
      "source": [
        "#remove the comment to load the dataset\n",
        "#from sklearn.datasets import load_iris"
      ],
      "metadata": {
        "id": "DlQlgroB_ah5"
      },
      "execution_count": 29,
      "outputs": []
    },
    {
      "cell_type": "code",
      "source": [
        "#declare the load_iris (dataset) into a variable 'iris'"
      ],
      "metadata": {
        "id": "rnRIbgllCmGt"
      },
      "execution_count": 30,
      "outputs": []
    },
    {
      "cell_type": "markdown",
      "source": [
        "#Explore the Dataset"
      ],
      "metadata": {
        "id": "J7h9qYNDMKCP"
      }
    },
    {
      "cell_type": "code",
      "source": [
        "#print the data as an array using 'data'"
      ],
      "metadata": {
        "id": "LavOOBfBCxXZ"
      },
      "execution_count": 31,
      "outputs": []
    },
    {
      "cell_type": "code",
      "source": [
        "#print the target of the dataset as an array using 'target'"
      ],
      "metadata": {
        "id": "dvbCu4osDJUX"
      },
      "execution_count": 32,
      "outputs": []
    },
    {
      "cell_type": "code",
      "source": [
        "#print the target names of the dataset as an array using 'target_names'"
      ],
      "metadata": {
        "id": "jU-Ae6PYEu8O"
      },
      "execution_count": 33,
      "outputs": []
    },
    {
      "cell_type": "markdown",
      "source": [
        "#Split the Independent Features & Target variable"
      ],
      "metadata": {
        "id": "Blgy7R2xMPAp"
      }
    },
    {
      "cell_type": "code",
      "source": [
        "# Declare the Independent Variables in the variable 'X' and the target variable to be predicted on 'y'"
      ],
      "metadata": {
        "id": "hd8WvffXF0xo"
      },
      "execution_count": 15,
      "outputs": []
    },
    {
      "cell_type": "markdown",
      "source": [
        "#Train Test Split"
      ],
      "metadata": {
        "id": "kGParvOpMaut"
      }
    },
    {
      "cell_type": "code",
      "source": [
        "# remove the comment to import the library for training and testing split of the data\n",
        "#from sklearn.model_selection import train_test_split"
      ],
      "metadata": {
        "id": "Eu6gM_BWE148"
      },
      "execution_count": 14,
      "outputs": []
    },
    {
      "cell_type": "code",
      "source": [
        "#split the data into training and testing keeping test size as 30% and random state as 1"
      ],
      "metadata": {
        "id": "cQOVefvhE880"
      },
      "execution_count": 25,
      "outputs": []
    },
    {
      "cell_type": "markdown",
      "source": [
        "#Your First Model & Model Evaluation"
      ],
      "metadata": {
        "id": "RROJ5LICMfbL"
      }
    },
    {
      "cell_type": "code",
      "source": [
        "#remove the comment to import KNN Classifier then define your model as 'Knn'\n",
        "#from sklearn.neighbors import KNeighborsClassifier"
      ],
      "metadata": {
        "id": "ZYWUXUqtF8kw"
      },
      "execution_count": 18,
      "outputs": []
    },
    {
      "cell_type": "code",
      "source": [
        "#fit your model\n",
        "#predict the model using variable 'y_pred'\n",
        "#print both 'y_pred' & 'y_test'"
      ],
      "metadata": {
        "id": "OyW0BUsJHbP3"
      },
      "execution_count": 34,
      "outputs": []
    },
    {
      "cell_type": "markdown",
      "source": [
        "# Score Cards"
      ],
      "metadata": {
        "id": "Jf4VcFCZMir9"
      }
    },
    {
      "cell_type": "code",
      "source": [
        "#remove the comment to import required reports\n",
        "#from sklearn.metrics import accuracy_score, classification_report"
      ],
      "metadata": {
        "id": "5W96drqrH2_-"
      },
      "execution_count": 22,
      "outputs": []
    },
    {
      "cell_type": "code",
      "source": [
        "# using 'accuracy' & 'cl_report' generate the accuracy score and classification report of the model respectively"
      ],
      "metadata": {
        "id": "IuHhaK4JH-_0"
      },
      "execution_count": 27,
      "outputs": []
    }
  ]
}